{
  "cells": [
    {
      "cell_type": "markdown",
      "metadata": {
        "id": "Q9GqNtXARjS1"
      },
      "source": [
        "## MSCI 332 - Project Part 1\n",
        "\n",
        "> **Team Members:** Maan Patel, Dhruv Hari, Nishesh Jagga, Edward Jeong <br>\n",
        "> **Course:** MSCI 332 <br>\n",
        "> **Topic:** Optimal EV chargers in a network <br>\n"
      ]
    },
    {
      "cell_type": "markdown",
      "metadata": {
        "id": "wdPHWcRLX8pS"
      },
      "source": [
        "# Model Definition"
      ]
    },
    {
      "cell_type": "markdown",
      "metadata": {
        "id": "1bLbTXyAZsEb"
      },
      "source": [
        "### Problem Definition \n",
        "\n"
      ]
    },
    {
      "cell_type": "markdown",
      "metadata": {
        "id": "UGweWuKvZZmO"
      },
      "source": [
        "Assumptions\n",
        "- Each node will be a major intersection.\n",
        "- If an optimal point for an EV charger is on an arc, we will move it to the adjacent node due to the P median problem. \n",
        "- 10% will be the minimum safety charge such that the user should start looking for a charger. \n",
        "- All charging stations are equipped with type 3 DC fast chargers that charge at the same speed. \n",
        "- Range increases linearly with battery energy level. \n",
        "- Total battery capacity and max range will be fixed. \n",
        "- We will also assume that there’s no waiting time at the station to avoid complexion with queues and a stochastic model (out of the scope of MSCI 332).\n",
        "- We will assume that our network graph is one connected network where every vertex has some path to another.\n",
        "The range of the car will be more than the distance between 2 adjacent nodes\n"
      ]
    },
    {
      "cell_type": "markdown",
      "metadata": {
        "id": "7YsXgRg0R210"
      },
      "source": [
        "## Mathematical Model\n",
        "\n",
        "### **Sets**\n",
        "\n",
        "$Ι: \\text{Set of all intersections in the network } <br>\n",
        "$A: \\text{Set of all lengths of feasible links between intersections in the network } <br>\n",
        "$R: \\text{Set of all routes to traverse the network } <br>\n",
        "$L: \\text{Set of all distances from each intersection to the destination for all routes } <br>\n",
        "\n",
        "### **Parameters**\n",
        "\n",
        "$\\tau: \\text{Distance covered by EV using 90\\% of range (100\\% } \\rightarrow \\text{ 10\\%)}$ <br>\n",
        "$\\beta: \\text{Cost to build a charging station } <br>\n",
        "$\\alpha: \\text{Cost to build a charger at a charging station } <br>\n",
        "$a_{ij}: \\text{ Length of link } (i,j) \\in A$ <br>\n",
        "$e_{ijk}: \\begin{cases}  1 & \\text{if EV travels from intersection } i \\text{ to } j \\text{ on link } (i,j) \\text{ in route } k \\\\  0 & \\text{otherwise}  \\end{cases} \\quad i,j \\in I,\\ (i,j) \\in A,\\ k \\in R$ <br>\n",
        "$f_{ik}: \\text{Distance from intersection } i \\in I \\text{ to the destination in route } k \\in R$ <br>\n",
        "$b_{k}: \\begin{cases}  f_{0k}-\\tau & \\text{if for route } k,\\ f_{0k} \\gt \\tau  \\\\  0 & \\text{otherwise}  \\end{cases} \\quad k \\in R$ <br>\n",
        "\n",
        "### **Decision Variables**\n",
        "\n",
        "$x_{i}: \\begin{cases}  1 & \\text{if charging station exists at intersection } i  \\\\  0 & \\text{otherwise}  \\end{cases} \\quad i \\in I$ <br>\n",
        "$y_{i}: \\text{Number of chargers installed at intersection } i \\in I$ <br>\n",
        "$p_{ik}: \\begin{cases}  1 & \\text{if EV is charged at intersection } i \\text{ on route } k  \\\\  0 & \\text{otherwise}  \\end{cases} \\quad i \\in I,\\ k \\in R$ <br>\n",
        "$q_{ik}: \\text{Range added by charging at intersection } i \\in I \\text{ on route } k \\in R$ <br>\n",
        "$r_{ik}: \\text{Remaining range when arriving at intersection } i \\in I \\text{ on route } k \\in R$ <br>\n",
        "\n",
        "$$\\text{MIN} \\quad \\sum\\limits_{i \\in I}{\\beta x_{i} + \\alpha y_{i}} $$\n",
        "\n",
        "s.t.\n"
      ]
    },
    {
      "cell_type": "markdown",
      "metadata": {
        "id": "zVr7QKA2RwtK"
      },
      "source": [
        "# Implementation"
      ]
    },
    {
      "cell_type": "markdown",
      "metadata": {
        "id": "ij_Vs9muTju-"
      },
      "source": [
        "## Creating/Visualizing the Network"
      ]
    },
    {
      "cell_type": "code",
      "execution_count": null,
      "metadata": {
        "id": "g7NZQpXMYx1D"
      },
      "outputs": [],
      "source": [
        "import numpy as np"
      ]
    },
    {
      "cell_type": "code",
      "execution_count": null,
      "metadata": {
        "colab": {
          "base_uri": "https://localhost:8080/",
          "height": 520
        },
        "id": "ZPdqKGqKdlBh",
        "outputId": "0d3cd158-c190-4539-a844-f99696ef8acf"
      },
      "outputs": [],
      "source": [
        "# Code taken from MSCI 332 Tutorial 2\n",
        "# Random network generator\n",
        "from itertools import combinations, groupby\n",
        "import networkx as nx\n",
        "import random\n",
        "import matplotlib.pyplot as plt\n",
        "\n",
        "np.random.seed(8953456)\n",
        "NUMBER_OF_INTERSECTIONS = 8\n",
        "RANGE_OF_CAR = 336\n",
        "MIN_ARC_LENGTH = 80\n",
        "MAX_ARC_LENGTH = 200\n",
        "\n",
        "\n",
        "# original version from https://stackoverflow.com/a/61961881\n",
        "def gnp_random_connected_graph(n, p):\n",
        "    \"\"\"\n",
        "    Generates a random undirected graph, similarly to an Erdős-Rényi \n",
        "    graph, but enforcing that the resulting graph is conneted\n",
        "    \"\"\"\n",
        "    edges = combinations(range(n), 2)\n",
        "    G = nx.Graph()\n",
        "    for i in range(n):\n",
        "      G.add_node(i)\n",
        "\n",
        "    if p <= 0:\n",
        "        return G\n",
        "    if p >= 1:\n",
        "        return nx.complete_graph(n, create_using=G)\n",
        "    for _, node_edges in groupby(edges, key=lambda x: x[0]):\n",
        "      node_edges = list(node_edges)\n",
        "      index = np.random.randint(len(node_edges))\n",
        "      random_edge = node_edges[index]\n",
        "      G.add_edge(random_edge[0], random_edge[1], weight=np.random.randint(MIN_ARC_LENGTH, MAX_ARC_LENGTH))\n",
        "      for e in node_edges:\n",
        "          if np.random.random() < p:\n",
        "              G.add_edge(*e, weight=np.random.randint(MIN_ARC_LENGTH, MAX_ARC_LENGTH))\n",
        "    return G\n",
        "\n",
        "nodes = NUMBER_OF_INTERSECTIONS\n",
        "probability = 0.25\n",
        "G = gnp_random_connected_graph(nodes, probability)\n",
        "labels = nx.get_edge_attributes(G,'weight')\n",
        "pos = nx.spring_layout(G,k=5)\n",
        "plt.figure(figsize=(11,9))\n",
        "nx.draw_networkx_edge_labels(G,pos, edge_labels=labels)\n",
        "nx.draw(G, pos, with_labels=True, node_color='lightblue',node_size=1000)\n",
        "plt.show()\n"
      ]
    },
    {
      "cell_type": "markdown",
      "metadata": {
        "id": "QTNg6OrEUM3l"
      },
      "source": [
        "The **network** above will be used to determine the optimal locations for placements of EV chargers. The graph is a fully connected graph where every vertice has some path leading to another. Every node is an intersection. The arcs have a weight that falls in the range of a random number between **MIN_ARC_LENGTH** and **MAX_ARC_LENGTH**. The max arc length is much smaller than the **Range** of the car. This is realistic because in the real world, there are many intersections in the path. Usually the intersection is closer than the range of the car. This assumption also allows us to avoid placing the charger almost everywhere in the network. "
      ]
    },
    {
      "cell_type": "markdown",
      "metadata": {
        "id": "kLDdPW7MV3S5"
      },
      "source": [
        "## Deterministic Model"
      ]
    },
    {
      "cell_type": "code",
      "execution_count": null,
      "metadata": {
        "id": "dg1jtK_tYviL"
      },
      "outputs": [],
      "source": [
        "!pip install gurobipy>=9.5.1\n",
        "import gurobipy as gp\n",
        "from gurobipy import GRB as GRB\n",
        "from gurobipy import quicksum"
      ]
    },
    {
      "cell_type": "code",
      "execution_count": null,
      "metadata": {
        "colab": {
          "base_uri": "https://localhost:8080/"
        },
        "id": "KxN-1IG0dUXV",
        "outputId": "c42c9d12-506c-4820-a2e7-dc8c28c7d377"
      },
      "outputs": [],
      "source": [
        "# Create environment with WLS license\n",
        "e = gp.Env(empty=True)\n",
        "e.setParam('WLSACCESSID', 'fcee3cac-af4b-4c4e-b808-7e384b08c4f8')\n",
        "e.setParam('WLSSECRET', 'fdfef66d-12d2-4056-aff9-f3d03d038758')\n",
        "e.setParam('LICENSEID', 868431)\n",
        "e.start()\n",
        "\n",
        "# Create the model within the Gurobi environment\n",
        "model = gp.Model(env=e)"
      ]
    },
    {
      "cell_type": "code",
      "execution_count": null,
      "metadata": {
        "colab": {
          "base_uri": "https://localhost:8080/"
        },
        "id": "4Xp6cwWHjDle",
        "outputId": "e4261f5b-aec5-447f-cbd3-47217b742e3a"
      },
      "outputs": [],
      "source": [
        "import itertools\n",
        "\n",
        "graph = nx.to_dict_of_dicts(G)\n",
        "shortest_path = nx.dijkstra_path(G, 0, 2)\n",
        "\n",
        "shortest_paths = nx.all_pairs_dijkstra_path(G)\n",
        "\n",
        "arc_lengths = nx.get_edge_attributes(G,'weight')\n",
        "arc_lengths.update({(k[1], k[0]) : v for k,v in arc_lengths.items()})\n",
        "\n",
        "def get_arcs_from_nodes(node_list):\n",
        "  return [(node_list[i-1], node_list[i]) for i in range (1, len(node_list))]\n",
        "\n",
        "routes = []\n",
        "ARC_ROWS = set()\n",
        "for start_node in shortest_paths:\n",
        "  for b in start_node[1].values():\n",
        "    if len(b) > 1:\n",
        "      arcs = get_arcs_from_nodes(b)\n",
        "      arcs_w_lengths = {arc: arc_lengths[arc] for arc in arcs}\n",
        "      arc_row = list(arcs_w_lengths.items())[0]\n",
        "      ARC_ROWS.add(arc_row)\n",
        "      routes.append({\"nodes\":tuple(b), \"arcs\":arcs_w_lengths})\n",
        "print(len(ARC_ROWS))"
      ]
    },
    {
      "cell_type": "code",
      "execution_count": null,
      "metadata": {
        "id": "5sToBrWk7WWN"
      },
      "outputs": [],
      "source": [
        "ARC_MATRIX = []\n",
        "for i in range(NUMBER_OF_INTERSECTIONS):\n",
        "  matrix_row = [0 for i in range(NUMBER_OF_INTERSECTIONS)]\n",
        "\n",
        "  for row in ARC_ROWS:\n",
        "    if row[0][0] == i:\n",
        "      matrix_row[row[0][1]] = row[1]\n",
        "  ARC_MATRIX.append(matrix_row)"
      ]
    },
    {
      "cell_type": "code",
      "execution_count": null,
      "metadata": {
        "id": "E84UWYVM7ZVL"
      },
      "outputs": [],
      "source": [
        "ROUTES = []\n",
        "ROUTE_DISTANCES = []\n",
        "ROUTE_ARCS = []\n",
        "for j in routes:\n",
        "  ROUTES.append((list(j[\"nodes\"])))\n",
        "  arc_lens = j['arcs']\n",
        "\n",
        "  ROUTE_ARCS.append(list(arc_lens.keys()))\n",
        "\n",
        "  arc_sum = sum(arc_lens.values())\n",
        "  remaining_dist = []\n",
        "  remaining_dist.append(arc_sum)\n",
        "  for i in arc_lens.values():\n",
        "    arc_sum -= i\n",
        "    remaining_dist.append(arc_sum)\n",
        "  ROUTE_DISTANCES.append(tuple(remaining_dist))"
      ]
    },
    {
      "cell_type": "code",
      "execution_count": null,
      "metadata": {
        "id": "ksNaXCA_VD7j"
      },
      "outputs": [],
      "source": [
        "ROUTE_ARC_BINARY = []\n",
        "\n",
        "matrix = np.zeros((len(ROUTES), NUMBER_OF_INTERSECTIONS, NUMBER_OF_INTERSECTIONS), dtype=int)\n",
        "\n",
        "for k in range(len(ROUTES)):\n",
        "  arc = ROUTE_ARCS[k]\n",
        "\n",
        "  for i in range(len(arc)):\n",
        "    f = int(arc[i][0])\n",
        "    s = int(arc[i][1])\n",
        "    matrix[k][f][s] = 1\n",
        "\n",
        "ROUTE_ARC_BINARY = matrix"
      ]
    },
    {
      "cell_type": "code",
      "execution_count": null,
      "metadata": {
        "id": "sF_Emxh5tQPg"
      },
      "outputs": [],
      "source": [
        "# Sets\n",
        "I = list(G.nodes) # intersections in the network\n",
        "A = ARC_MATRIX # lengths of feasible arcs/links between intersections\n",
        "R = ROUTES # intersections/nodes of routes\n",
        "L = ROUTE_DISTANCES # length of arcs/links of routes\n",
        "F = ROUTE_ARCS # arcs/links of routes"
      ]
    },
    {
      "cell_type": "code",
      "execution_count": null,
      "metadata": {
        "colab": {
          "base_uri": "https://localhost:8080/"
        },
        "id": "zxQz46kxC79g",
        "outputId": "96b95c60-0beb-4113-a198-9e9bde62ca4b"
      },
      "outputs": [],
      "source": [
        "print(A)"
      ]
    },
    {
      "cell_type": "code",
      "execution_count": null,
      "metadata": {
        "colab": {
          "base_uri": "https://localhost:8080/"
        },
        "id": "v04DqH8OC9vG",
        "outputId": "f99197b6-3cc7-4a11-bb7b-84ff0360ad13"
      },
      "outputs": [],
      "source": [
        "print(R)"
      ]
    },
    {
      "cell_type": "code",
      "execution_count": null,
      "metadata": {
        "colab": {
          "base_uri": "https://localhost:8080/"
        },
        "id": "QMkhgz9zC-tV",
        "outputId": "1859180a-043c-49cf-8284-2216e141782e"
      },
      "outputs": [],
      "source": [
        "print(L)"
      ]
    },
    {
      "cell_type": "code",
      "execution_count": null,
      "metadata": {
        "colab": {
          "base_uri": "https://localhost:8080/"
        },
        "id": "1ws0pcc7C_mm",
        "outputId": "25e94d53-5374-474f-96fc-cad4374c6707"
      },
      "outputs": [],
      "source": [
        "print(F)"
      ]
    },
    {
      "cell_type": "code",
      "execution_count": null,
      "metadata": {
        "id": "rXk9RO1i1Dv9"
      },
      "outputs": [],
      "source": [
        "# Parameters\n",
        "# Constants\n",
        "TAU = int(RANGE_OF_CAR) # 90% of the Range of the car \n",
        "M = 10**9 # Big-M\n",
        "\n",
        "# Indexed\n",
        "a = np.array(A) # Length of link (i,j)\n",
        "f = np.array(L, dtype=object) # Distance from intersection till destination\n",
        "b = np.array([max(0, f[k][0] - TAU) for k, route in enumerate(L)]) # Additional range needed to reach destination\n",
        "e = ROUTE_ARC_BINARY # If EV travels on link (i,j) in route k"
      ]
    },
    {
      "cell_type": "code",
      "execution_count": null,
      "metadata": {
        "id": "msvIjiA0Nl1o"
      },
      "outputs": [],
      "source": [
        "# model implementation\n",
        "model = gp.Model(\"EV Charging Station Optimization Model\")\n",
        "\n",
        "# Decision Variables\n",
        "x = model.addVars(I, vtype=GRB.BINARY, name=\"x\") # Charging station exists at node\n",
        "y = model.addVars(I, lb=0.0, vtype=GRB.INTEGER, name=\"y\") # Num of chargers at node\n",
        "p = model.addVars(I, range(len(R)), vtype=GRB.BINARY, name=\"p\") # If EV is charged at node on a route\n",
        "q = model.addVars(I, range(len(R)), lb=0.0, vtype=GRB.CONTINUOUS, name=\"q\") # Range added to EV at node on a route\n",
        "r = model.addVars(I, range(len(R)), lb=0.0, vtype=GRB.CONTINUOUS, name=\"r\") # Remaining range when entering node on a route"
      ]
    },
    {
      "cell_type": "code",
      "execution_count": null,
      "metadata": {
        "colab": {
          "base_uri": "https://localhost:8080/"
        },
        "id": "2bHDvw4DeTal",
        "outputId": "70faff12-8b15-48e8-fbb5-0df8084e1bd9"
      },
      "outputs": [],
      "source": [
        "# Constraints\n",
        "[model.addConstr(y[i] <= M * x[i]) for i in I] # 1\n",
        "[model.addConstr(y[i] >= x[i]) for i in I] # 2\n",
        "[model.addConstr(y[i] <= 10) for i in I] # max number of chargers at station\n",
        "[model.addConstr(M * x[i] >= sum(p[i,k] for k, route in enumerate(R))) for i in I] # 3\n",
        "[[model.addConstr(q[i,k] <= M * p[i,k]) for i in route] for k, route in enumerate(R)] # 4\n",
        "[[model.addConstr(q[i,k] >= p[i,k]) for i in route] for k, route in enumerate(R)] # 5\n",
        "[[model.addConstr(r[i,k] + q[i,k] <= TAU) for i in route] for k, route in enumerate(R)] # 6\n",
        "[[model.addConstr(r[i,k] + q[i,k] == r[j,k] + a[i,j]) for (i,j) in arc] for k, arc in enumerate(F)] # 7\n",
        "[model.addConstr(y[i] >= sum(p[i,k] for k, route in enumerate(R))) for i in I] # 8\n",
        "[model.addConstr(sum(q[i,k] for i in I) == b[k]) for k, route in enumerate(R)] # 9\n",
        "[model.addConstr(sum(p[i,k] for i in I) <= (b[k]/TAU) +1 ) for k, route in enumerate(R)] # 10\n"
      ]
    },
    {
      "cell_type": "code",
      "execution_count": null,
      "metadata": {
        "id": "etdofkSUeZ9i"
      },
      "outputs": [],
      "source": [
        "# Fixed cost\n",
        "\n",
        "charging_station_cost = sum((200_000 * x[i]) + (10_000 * y[i]) for i in I)\n",
        "EV_route_cost = sum(x[0] for x in L)\n",
        "\n",
        "# Objective\n",
        "model.setObjective(charging_station_cost + EV_route_cost, sense=GRB.MINIMIZE)"
      ]
    },
    {
      "cell_type": "markdown",
      "metadata": {
        "id": "cmGCG6cYQGVs"
      },
      "source": [
        "## Result"
      ]
    },
    {
      "cell_type": "code",
      "execution_count": null,
      "metadata": {
        "colab": {
          "base_uri": "https://localhost:8080/"
        },
        "id": "Oic6Aim8sEO3",
        "outputId": "fa9871d1-97c6-4c79-d5f1-6e0c4a227fa6"
      },
      "outputs": [],
      "source": [
        "# optimize\n",
        "model.optimize()\n",
        "print(f\"NUMBER OF CONSTRAINTS: {len(model.getConstrs())}\")"
      ]
    },
    {
      "cell_type": "code",
      "execution_count": null,
      "metadata": {
        "colab": {
          "base_uri": "https://localhost:8080/",
          "height": 591
        },
        "id": "FtB37lqRWHLO",
        "outputId": "4c748f92-f3c8-4a04-d1bf-aafdd2a532cf"
      },
      "outputs": [],
      "source": [
        "from networkx import exception\n",
        "# output\n",
        "try:\n",
        "  print(f\"\\nOptimal cost: ${model.getObjective().getValue():,.0f}\")\n",
        "  color_map = []\n",
        "  optimal_intersections = []\n",
        "  for i in range(len(x)):\n",
        "    # for j in y:\n",
        "    if x[i].X and y[i].X:  # if variable is non-zero\n",
        "      print(f\"{int(y[i].X)} chargers will be place at intersection {i}\")\n",
        "      optimal_intersections.append(i)\n",
        "  \n",
        "\n",
        "  for node in G:\n",
        "      if node in optimal_intersections:\n",
        "          color_map.append('green')\n",
        "      else: \n",
        "          color_map.append('blue')      \n",
        "\n",
        "  # Draw Network\n",
        "  plt.figure(figsize=(11,9))\n",
        "  nx.draw_networkx_edge_labels(G,pos, edge_labels=labels)\n",
        "  nx.draw(G, pos, with_labels=True, alpha=0.5, node_color=color_map,node_size=1000)\n",
        "  plt.show()\n",
        "  \n",
        "except:\n",
        "  print(\"Objective Solution Not Found\")"
      ]
    },
    {
      "cell_type": "markdown",
      "metadata": {
        "id": "QK6Kr5ADRE8X"
      },
      "source": [
        "As per the network graph above:\n",
        "\n",
        "1. The green nodes are Charging Stations\n",
        "2. The purple nodes are Intersections/Nodes"
      ]
    }
  ],
  "metadata": {
    "colab": {
      "provenance": [],
      "toc_visible": true
    },
    "kernelspec": {
      "display_name": "Python 3.11.0 64-bit (microsoft store)",
      "language": "python",
      "name": "python3"
    },
    "language_info": {
      "codemirror_mode": {
        "name": "ipython",
        "version": 3
      },
      "file_extension": ".py",
      "mimetype": "text/x-python",
      "name": "python",
      "nbconvert_exporter": "python",
      "pygments_lexer": "ipython3",
      "version": "3.11.0"
    },
    "vscode": {
      "interpreter": {
        "hash": "0833001f19c043dfb49e8557dd3d2016a0974c5a2d64361ea1996358226d39a2"
      }
    }
  },
  "nbformat": 4,
  "nbformat_minor": 0
}
