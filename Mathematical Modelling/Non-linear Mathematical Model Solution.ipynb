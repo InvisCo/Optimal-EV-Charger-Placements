{
  "cells": [
    {
      "cell_type": "markdown",
      "metadata": {},
      "source": [
        "# Non-Linear Mathematical Modelling"
      ]
    },
    {
      "cell_type": "markdown",
      "metadata": {
        "id": "ij_Vs9muTju-"
      },
      "source": [
        "## Creating/Visualizing the Network"
      ]
    },
    {
      "cell_type": "code",
      "execution_count": null,
      "metadata": {},
      "outputs": [],
      "source": [
        "# %pip install numpy matplotlib networkx\n",
        "import numpy as np"
      ]
    },
    {
      "cell_type": "code",
      "execution_count": null,
      "metadata": {
        "colab": {
          "base_uri": "https://localhost:8080/",
          "height": 520
        },
        "id": "ZPdqKGqKdlBh",
        "outputId": "5a67d0e9-4210-4588-e3e0-bf1d78376355"
      },
      "outputs": [],
      "source": [
        "# Code taken from MSCI 332 Tutorial 2\n",
        "# https://github.com/ST3042/MSCI332F22\n",
        "\n",
        "# Random network generator\n",
        "from itertools import combinations, groupby\n",
        "import matplotlib.pyplot as plt\n",
        "import networkx as nx\n",
        "\n",
        "np.random.seed(8953456)\n",
        "NUMBER_OF_INTERSECTIONS = 8\n",
        "RANGE_OF_CAR = 336\n",
        "MIN_ARC_LENGTH = 80\n",
        "MAX_ARC_LENGTH = 200\n",
        "\n",
        "\n",
        "# original version from https://stackoverflow.com/a/61961881\n",
        "def gnp_random_connected_graph(n, p):\n",
        "    \"\"\"\n",
        "    Generates a random undirected graph, similarly to an Erdős-Rényi\n",
        "    graph, but enforcing that the resulting graph is conneted\n",
        "    \"\"\"\n",
        "    edges = combinations(range(n), 2)\n",
        "    G = nx.Graph()\n",
        "    for i in range(n):\n",
        "        G.add_node(i)\n",
        "\n",
        "    if p <= 0:\n",
        "        return G\n",
        "    if p >= 1:\n",
        "        return nx.complete_graph(n, create_using=G)\n",
        "    for _, node_edges in groupby(edges, key=lambda x: x[0]):\n",
        "        node_edges = list(node_edges)\n",
        "        index = np.random.randint(len(node_edges))\n",
        "        random_edge = node_edges[index]\n",
        "        G.add_edge(\n",
        "            random_edge[0],\n",
        "            random_edge[1],\n",
        "            weight=np.random.randint(MIN_ARC_LENGTH, MAX_ARC_LENGTH),\n",
        "        )\n",
        "        for e in node_edges:\n",
        "            if np.random.random() < p:\n",
        "                G.add_edge(*e, weight=np.random.randint(MIN_ARC_LENGTH, MAX_ARC_LENGTH))\n",
        "    return G\n",
        "\n",
        "\n",
        "nodes = NUMBER_OF_INTERSECTIONS\n",
        "probability = 0.25\n",
        "G = gnp_random_connected_graph(nodes, probability)\n",
        "labels = nx.get_edge_attributes(G, \"weight\")\n",
        "pos = nx.spring_layout(G, k=5)\n",
        "plt.figure(figsize=(11, 9))\n",
        "nx.draw_networkx_edge_labels(G, pos, edge_labels=labels)\n",
        "nx.draw(G, pos, with_labels=True, node_color=\"lightblue\", node_size=1000)\n",
        "plt.show()\n"
      ]
    },
    {
      "cell_type": "markdown",
      "metadata": {
        "id": "QTNg6OrEUM3l"
      },
      "source": [
        "The **network** above will be used to determine the optimal locations for placements of EV chargers. The graph is a fully connected graph where every vertice has some path leading to another. Every node is an intersection. The arcs have a weight that falls in the range of a random number between **MIN_ARC_LENGTH** and **MAX_ARC_LENGTH**. The max arc length is much smaller than the **Range** of the car. This is realistic because in the real world, there are many intersections in the path. Usually the intersection is closer than the range of the car. This assumption also allows us to avoid placing the charger almost everywhere in the network. "
      ]
    },
    {
      "cell_type": "markdown",
      "metadata": {
        "id": "kLDdPW7MV3S5"
      },
      "source": [
        "## Deterministic Model"
      ]
    },
    {
      "cell_type": "code",
      "execution_count": 8,
      "metadata": {
        "id": "dg1jtK_tYviL"
      },
      "outputs": [
        {
          "name": "stdout",
          "output_type": "stream",
          "text": [
            "Requirement already satisfied: gurobipy in c:\\users\\jagga\\appdata\\local\\packages\\pythonsoftwarefoundation.python.3.11_qbz5n2kfra8p0\\localcache\\local-packages\\python311\\site-packages (10.0.0)\n",
            "Note: you may need to restart the kernel to use updated packages.\n"
          ]
        }
      ],
      "source": [
        "# %pip install gurobipy\n",
        "import gurobipy as gp\n",
        "from gurobipy import GRB\n",
        "from gurobipy import quicksum"
      ]
    },
    {
      "cell_type": "code",
      "execution_count": null,
      "metadata": {
        "colab": {
          "base_uri": "https://localhost:8080/"
        },
        "id": "KxN-1IG0dUXV",
        "outputId": "3240fa90-0eee-4939-8540-7a5227f41b02"
      },
      "outputs": [],
      "source": [
        "# Read license from secret file\n",
        "import json\n",
        "\n",
        "secrets = json.load(open(\"../secrets.json\"))\n",
        "\n",
        "# Create environment with WLS license\n",
        "e = gp.Env(empty=True)\n",
        "e.setParam(\"WLSACCESSID\", secrets[\"GUROBI_WLSACCESSID\"])\n",
        "e.setParam(\"WLSSECRET\", secrets[\"GUROBI_WLSSECRET\"])\n",
        "e.setParam(\"LICENSEID\", secrets[\"GUROBI_LICENSEID\"])\n",
        "e.start()\n"
      ]
    },
    {
      "cell_type": "code",
      "execution_count": null,
      "metadata": {
        "colab": {
          "base_uri": "https://localhost:8080/"
        },
        "id": "4Xp6cwWHjDle",
        "outputId": "45ccb687-698b-4310-d092-bc566a73878b"
      },
      "outputs": [],
      "source": [
        "import itertools\n",
        "\n",
        "graph = nx.to_dict_of_dicts(G)\n",
        "shortest_path = nx.dijkstra_path(G, 0, 2)\n",
        "\n",
        "shortest_paths = nx.all_pairs_dijkstra_path(G)\n",
        "\n",
        "arc_lengths = nx.get_edge_attributes(G, \"weight\")\n",
        "arc_lengths.update({(k[1], k[0]): v for k, v in arc_lengths.items()})\n",
        "\n",
        "\n",
        "def get_arcs_from_nodes(node_list):\n",
        "    return [(node_list[i - 1], node_list[i]) for i in range(1, len(node_list))]\n",
        "\n",
        "\n",
        "routes = []\n",
        "ARC_ROWS = set()\n",
        "for start_node in shortest_paths:\n",
        "    for b in start_node[1].values():\n",
        "        if len(b) > 1:\n",
        "            arcs = get_arcs_from_nodes(b)\n",
        "            arcs_w_lengths = {arc: arc_lengths[arc] for arc in arcs}\n",
        "            arc_row = list(arcs_w_lengths.items())[0]\n",
        "            ARC_ROWS.add(arc_row)\n",
        "            routes.append({\"nodes\": tuple(b), \"arcs\": arcs_w_lengths})\n",
        "print(len(ARC_ROWS))\n"
      ]
    },
    {
      "cell_type": "code",
      "execution_count": null,
      "metadata": {
        "id": "5sToBrWk7WWN"
      },
      "outputs": [],
      "source": [
        "ARC_MATRIX = []\n",
        "for i in range(NUMBER_OF_INTERSECTIONS):\n",
        "    matrix_row = [0 for i in range(NUMBER_OF_INTERSECTIONS)]\n",
        "\n",
        "    for row in ARC_ROWS:\n",
        "        if row[0][0] == i:\n",
        "            matrix_row[row[0][1]] = row[1]\n",
        "    ARC_MATRIX.append(matrix_row)\n"
      ]
    },
    {
      "cell_type": "code",
      "execution_count": null,
      "metadata": {
        "id": "E84UWYVM7ZVL"
      },
      "outputs": [],
      "source": [
        "ROUTES = []\n",
        "ROUTE_DISTANCES = []\n",
        "ROUTE_ARCS = []\n",
        "for j in routes:\n",
        "    ROUTES.append((list(j[\"nodes\"])))\n",
        "    arc_lens = j[\"arcs\"]\n",
        "\n",
        "    ROUTE_ARCS.append(list(arc_lens.keys()))\n",
        "\n",
        "    arc_sum = sum(arc_lens.values())\n",
        "    remaining_dist = []\n",
        "    remaining_dist.append(arc_sum)\n",
        "    for i in arc_lens.values():\n",
        "        arc_sum -= i\n",
        "        remaining_dist.append(arc_sum)\n",
        "    ROUTE_DISTANCES.append(tuple(remaining_dist))\n"
      ]
    },
    {
      "cell_type": "code",
      "execution_count": null,
      "metadata": {
        "id": "ksNaXCA_VD7j"
      },
      "outputs": [],
      "source": [
        "ROUTE_ARC_BINARY = []\n",
        "\n",
        "matrix = np.zeros(\n",
        "    (len(ROUTES), NUMBER_OF_INTERSECTIONS, NUMBER_OF_INTERSECTIONS), dtype=int\n",
        ")\n",
        "\n",
        "for k in range(len(ROUTES)):\n",
        "    arc = ROUTE_ARCS[k]\n",
        "\n",
        "    for i in range(len(arc)):\n",
        "        f = int(arc[i][0])\n",
        "        s = int(arc[i][1])\n",
        "        matrix[k][f][s] = 1\n",
        "\n",
        "ROUTE_ARC_BINARY = matrix\n"
      ]
    },
    {
      "cell_type": "code",
      "execution_count": null,
      "metadata": {
        "id": "sF_Emxh5tQPg"
      },
      "outputs": [],
      "source": [
        "# Sets\n",
        "\n",
        "I = list(G.nodes)  # intersections in the network\n",
        "A = ARC_MATRIX  # lengths of feasible arcs/links between intersections\n",
        "R = ROUTES  # intersections/nodes of routes\n",
        "L = ROUTE_DISTANCES  # length of arcs/links of routes\n",
        "F = ROUTE_ARCS  # arcs/links of routes\n"
      ]
    },
    {
      "cell_type": "code",
      "execution_count": null,
      "metadata": {
        "id": "rXk9RO1i1Dv9"
      },
      "outputs": [],
      "source": [
        "# Parameters\n",
        "\n",
        "## Constant\n",
        "# 90% of the Range of the car\n",
        "TAU = int(0.9 * RANGE_OF_CAR)\n",
        "# Big-M: 10^9\n",
        "M = 10**9\n",
        "\n",
        "## Indexed\n",
        "# Length of link (i,j)\n",
        "a = np.array(A)\n",
        "# Distance from intersection till destination\n",
        "f = np.array(L, dtype=object)\n",
        "# Additional range needed to reach destination\n",
        "b = np.array([max(0, f[k][0] - TAU) for k, route in enumerate(L)])\n"
      ]
    },
    {
      "cell_type": "code",
      "execution_count": null,
      "metadata": {
        "id": "msvIjiA0Nl1o"
      },
      "outputs": [],
      "source": [
        "# Create the model within the Gurobi environment\n",
        "model = gp.Model(\"EV Charging Station Optimization Model\", env=e)\n",
        "\n",
        "# Decision Variables\n",
        "\n",
        "# If charging station exists at a node = 1, else = 0\n",
        "x = model.addVars(I, vtype=GRB.BINARY, name=\"x\")\n",
        "# Number of chargers at a node\n",
        "y = model.addVars(I, lb=0.0, vtype=GRB.INTEGER, name=\"y\")\n",
        "# If EV is charged at a node on a route = 1, else = 0\n",
        "p = model.addVars(I, range(len(R)), vtype=GRB.BINARY, name=\"p\")\n",
        "# Range added to EV by charging at a node on a route\n",
        "q = model.addVars(I, range(len(R)), lb=0.0, vtype=GRB.CONTINUOUS, name=\"q\")\n",
        "# Remaining range when entering a node on a route\n",
        "r = model.addVars(I, range(len(R)), lb=0.0, vtype=GRB.CONTINUOUS, name=\"r\")\n"
      ]
    },
    {
      "cell_type": "code",
      "execution_count": null,
      "metadata": {
        "colab": {
          "base_uri": "https://localhost:8080/"
        },
        "id": "2bHDvw4DeTal",
        "outputId": "38234a1d-a535-4723-ac5e-29b10c0b484c"
      },
      "outputs": [],
      "source": [
        "# Constraints\n",
        "[model.addConstr(y[i] <= M * x[i]) for i in I]  # 1\n",
        "[model.addConstr(y[i] >= x[i]) for i in I]  # 2\n",
        "[model.addConstr(y[i] <= 10) for i in I]  # max number of chargers at station\n",
        "[\n",
        "    model.addConstr(M * x[i] >= quicksum(p[i, k] for k, route in enumerate(R)))\n",
        "    for i in I\n",
        "]  # 3\n",
        "[\n",
        "    [model.addConstr(q[i, k] <= M * p[i, k]) for i in route]\n",
        "    for k, route in enumerate(R)\n",
        "]  # 4\n",
        "[[model.addConstr(q[i, k] >= p[i, k]) for i in route] for k, route in enumerate(R)]  # 5\n",
        "[\n",
        "    [model.addConstr(r[i, k] + q[i, k] <= TAU) for i in route]\n",
        "    for k, route in enumerate(R)\n",
        "]  # 6\n",
        "[\n",
        "    [model.addConstr(r[i, k] + q[i, k] == r[j, k] + a[i, j]) for (i, j) in arc]\n",
        "    for k, arc in enumerate(F)\n",
        "]  # 7\n",
        "[\n",
        "    model.addConstr(y[i] >= quicksum(p[i, k] for k, route in enumerate(R))) for i in I\n",
        "]  # 8\n",
        "[\n",
        "    model.addConstr(quicksum(q[i, k] for i in I) == b[k]) for k, route in enumerate(R)\n",
        "]  # 9\n",
        "[\n",
        "    model.addConstr(quicksum(p[i, k] for i in I) <= (b[k] / TAU) + 1)\n",
        "    for k, route in enumerate(R)\n",
        "]  # 10\n"
      ]
    },
    {
      "cell_type": "code",
      "execution_count": null,
      "metadata": {
        "id": "4O2T0FuxVJLe"
      },
      "outputs": [],
      "source": [
        "# Piecewise cost - non-linear objective function\n",
        "\n",
        "# Cost Function\n",
        "def chargers_cost(num_chargers):\n",
        "    if num_chargers <= 0:\n",
        "        return 0\n",
        "    elif num_chargers <= 3:\n",
        "        return 200_000 + 10_000 * num_chargers\n",
        "    elif num_chargers <= 6:\n",
        "        return 200_000 + 8_000 * num_chargers\n",
        "    else:  # num_chargers > 6\n",
        "        return 200_000 + 6_000 * num_chargers\n",
        "\n",
        "\n",
        "# https://medium.com/bcggamma/hands-on-modeling-non-linearity-in-linear-optimization-problems-f9da34c23c9a\n",
        "# SOS2 Variables\n",
        "\n",
        "# SOS2 Breakpoints\n",
        "d = [[0, 3, 6, 10]] * len(I)\n",
        "# SOS2 Variable Definition\n",
        "v = [model.addVars(len(d[i]), lb=0, vtype=GRB.CONTINUOUS) for i in range(len(I))]\n",
        "[model.addSOS(GRB.SOS_TYPE2, v[i]) for i in range(len(I))]\n",
        "# SOS2 Convexity Constraint\n",
        "[model.addConstr(quicksum(v[i]) == 1) for i in range(len(I))]\n",
        "# SOS2 Variable Constraint\n",
        "[\n",
        "    model.addConstr(quicksum([v[i][n] * d[i][n] for n in range(len(d[i]))]) == y[i])\n",
        "    for i in range(len(I))\n",
        "]\n",
        "\n",
        "# Objective Function\n",
        "model.setObjective(\n",
        "    sum(sum(chargers_cost(d[i][n]) * v[i][n] for n in range(len(d[i]))) for i in I),\n",
        "    sense=GRB.MINIMIZE,\n",
        ")\n"
      ]
    },
    {
      "cell_type": "code",
      "execution_count": null,
      "metadata": {
        "colab": {
          "base_uri": "https://localhost:8080/"
        },
        "id": "Oic6Aim8sEO3",
        "outputId": "d7a480f1-9bc0-41ff-b719-0e7d8f869430"
      },
      "outputs": [],
      "source": [
        "# Optimize\n",
        "model.optimize()\n",
        "print(f\"NUMBER OF CONSTRAINTS: {len(model.getConstrs())}\")\n"
      ]
    },
    {
      "cell_type": "code",
      "execution_count": null,
      "metadata": {
        "colab": {
          "base_uri": "https://localhost:8080/",
          "height": 608
        },
        "id": "FtB37lqRWHLO",
        "outputId": "90243d88-74f2-4230-e87d-4711a09851f8"
      },
      "outputs": [],
      "source": [
        "# Output\n",
        "try:\n",
        "    print(f\"\\nOptimal cost: ${model.getObjective().getValue():,.0f}\")\n",
        "    color_map = []\n",
        "    optimal_intersections = []\n",
        "    for i in range(len(x)):\n",
        "        # for j in y:\n",
        "        if x[i].X and y[i].X:  # if variable is non-zero\n",
        "            print(f\"{int(y[i].X)} chargers will be place at intersection {i}\")\n",
        "            optimal_intersections.append(i)\n",
        "\n",
        "    for node in G:\n",
        "        if node in optimal_intersections:\n",
        "            color_map.append(\"green\")\n",
        "        else:\n",
        "            color_map.append(\"blue\")\n",
        "\n",
        "    # Draw Network\n",
        "    plt.figure(figsize=(11, 9))\n",
        "    nx.draw_networkx_edge_labels(G, pos, edge_labels=labels)\n",
        "    nx.draw(G, pos, with_labels=True, alpha=0.5, node_color=color_map, node_size=1000)\n",
        "    plt.show()\n",
        "\n",
        "except:\n",
        "    print(\"Objective Solution Not Found\")\n"
      ]
    },
    {
      "cell_type": "markdown",
      "metadata": {
        "id": "QK6Kr5ADRE8X"
      },
      "source": [
        "As per the network graph above:\n",
        "\n",
        "1. The green nodes are Charging Stations\n",
        "2. The purple nodes are Intersections/Nodes"
      ]
    }
  ],
  "metadata": {
    "colab": {
      "collapsed_sections": [
        "wdPHWcRLX8pS"
      ],
      "provenance": []
    },
    "kernelspec": {
      "display_name": "Python 3.11.1 64-bit (microsoft store)",
      "language": "python",
      "name": "python3"
    },
    "language_info": {
      "codemirror_mode": {
        "name": "ipython",
        "version": 3
      },
      "file_extension": ".py",
      "mimetype": "text/x-python",
      "name": "python",
      "nbconvert_exporter": "python",
      "pygments_lexer": "ipython3",
      "version": "3.11.1"
    },
    "vscode": {
      "interpreter": {
        "hash": "0833001f19c043dfb49e8557dd3d2016a0974c5a2d64361ea1996358226d39a2"
      }
    }
  },
  "nbformat": 4,
  "nbformat_minor": 0
}
