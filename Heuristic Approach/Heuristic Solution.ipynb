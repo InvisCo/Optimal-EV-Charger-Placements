{
  "cells": [
    {
      "cell_type": "markdown",
      "metadata": {
        "id": "Q9GqNtXARjS1"
      },
      "source": [
        "# MSCI 332 - Project Part 2\n",
        "\n",
        "> **Team Members:** Maan Patel, Dhruv Hari, Nishesh Jagga, Edward Jeong <br>\n",
        "> **Course:** MSCI 332 <br>\n",
        "> **Topic:** Optimal EV chargers in a network <br>\n"
      ]
    },
    {
      "cell_type": "markdown",
      "metadata": {
        "id": "3guGbYIAA406"
      },
      "source": [
        "# Problem Definition\n",
        "\n",
        "The problem definition is finding the optimal placements and number of Electric Vehicle chargers in a network. This part of the project focuses on solving the problem with heuristics rather than a mathematical model. \n",
        "\n"
      ]
    },
    {
      "cell_type": "markdown",
      "metadata": {
        "id": "KmWDo7pT_zAH"
      },
      "source": [
        "## Construction Heuristic\n",
        "\n",
        "A simple and \"not so smart\" solution to a problem that makes several decisions to solve the problem from cognition. \n",
        "\n",
        "A construction heuristic is a type of heuristic that loops a basic solution until the final results are obtained. \n",
        "\n",
        "## Meta-Heuristic\n",
        "\n",
        "A meta-heuristic is a type of heuristic that improves the basic heuristic by working on a current feasbile solution. The heurisitc then tries to do swaps or improvements in the network to see if the optimal value of the function is increased or decreased depending on the objective function. "
      ]
    },
    {
      "cell_type": "markdown",
      "metadata": {
        "id": "1d3QrsHSG2ao"
      },
      "source": [
        "## Problem Approach\n",
        "\n",
        "We will first create a construction heuristic that will solve the problem. \n",
        "Using the basic feasible solution obtained, a meta-heuristic will be used to improve this solution"
      ]
    },
    {
      "cell_type": "markdown",
      "metadata": {
        "id": "S0wjsNBuml_m"
      },
      "source": [
        "# Creating multiple networks\n",
        "\n",
        "To ensure the heuristics performs well and consistently, we will create multiple networks such that feasible solutions can be generated in differnt network or a real-world network of roads"
      ]
    },
    {
      "cell_type": "code",
      "execution_count": null,
      "metadata": {
        "id": "RR4IIJeFmdri"
      },
      "outputs": [],
      "source": [
        "# Code taken from MSCI 332 Tutorial 2\n",
        "# and enhanced into a class to allow testing across mutl\n",
        "from itertools import combinations, groupby\n",
        "import networkx as nx\n",
        "import random\n",
        "import matplotlib.pyplot as plt\n",
        "import numpy as np\n",
        "\n",
        "\n",
        "RANGE_OF_CAR = 336\n",
        "MIN_ARC_LENGTH = 80\n",
        "MAX_ARC_LENGTH = 200\n",
        "from networkx import exception\n",
        "\n",
        "# original version from https://stackoverflow.com/a/61961881\n",
        "def gnp_random_connected_graph(n, p):\n",
        "    \"\"\"\n",
        "    Generates a random undirected graph, similarly to an Erdős-Rényi \n",
        "    graph, but enforcing that the resulting graph is conneted\n",
        "    \"\"\"\n",
        "    edges = combinations(range(n), 2)\n",
        "    G = nx.Graph()\n",
        "    for i in range(n):\n",
        "      G.add_node(i)\n",
        "\n",
        "    if p <= 0:\n",
        "        return G\n",
        "    if p >= 1:\n",
        "        return nx.complete_graph(n, create_using=G)\n",
        "    for _, node_edges in groupby(edges, key=lambda x: x[0]):\n",
        "      node_edges = list(node_edges)\n",
        "      index = np.random.randint(len(node_edges))\n",
        "      random_edge = node_edges[index]\n",
        "      G.add_edge(random_edge[0], random_edge[1], weight=np.random.randint(MIN_ARC_LENGTH, MAX_ARC_LENGTH))\n",
        "      for e in node_edges:\n",
        "          if np.random.random() < p:\n",
        "              G.add_edge(*e, weight=np.random.randint(MIN_ARC_LENGTH, MAX_ARC_LENGTH))\n",
        "    return G\n",
        "  \n",
        "def create_network(random, nodes, prob_of_connection):\n",
        "  np.random.seed(random)\n",
        "  probability = prob_of_connection\n",
        "  G = gnp_random_connected_graph(nodes, probability)\n",
        "  labels = nx.get_edge_attributes(G,'weight')\n",
        "  pos = nx.spring_layout(G,k=5)\n",
        "  plt.figure(figsize=(11,9))\n",
        "  nx.draw_networkx_edge_labels(G,pos, edge_labels=labels)\n",
        "  nx.draw(G, pos, with_labels=True, node_color='lightblue',node_size=1000)\n",
        "  plt.show()\n",
        "  return {\"graph\":G, \"pos\":pos}"
      ]
    },
    {
      "cell_type": "code",
      "execution_count": null,
      "metadata": {
        "id": "yqh7wYdOsH0-"
      },
      "outputs": [],
      "source": [
        "from networkx import exception\n",
        "\n",
        "def display_solution(graph_with_pos,chargers,cost):\n",
        "  G = graph_with_pos[\"graph\"]\n",
        "  pos = graph_with_pos[\"pos\"]\n",
        "  # output\n",
        "  try:\n",
        "    print(f\"\\nCost from Heuristic: ${cost}\")\n",
        "    color_map = []\n",
        "    optimal_intersections = []\n",
        "    for node, count in chargers.items():\n",
        "      print(f\"{int(count)} chargers will be place at intersection {node}\")\n",
        "\n",
        "    for node in G:\n",
        "        if node in chargers.keys():\n",
        "            color_map.append('green')\n",
        "        else: \n",
        "            color_map.append('blue')      \n",
        "\n",
        "    # Draw Network\n",
        "    labels = nx.get_edge_attributes(G,'weight')\n",
        "    plt.figure(figsize=(11,9))\n",
        "    nx.draw_networkx_edge_labels(G,pos, edge_labels=labels)\n",
        "    nx.draw(G, pos, with_labels=True, alpha=0.5, node_color=color_map,node_size=1000)\n",
        "    plt.show()\n",
        "  except exception:\n",
        "    print(exception)\n",
        "    print(\"Objective Solution Not Found\")"
      ]
    },
    {
      "cell_type": "markdown",
      "metadata": {
        "id": "DgeWeR09nJVF"
      },
      "source": [
        "#### Network 1"
      ]
    },
    {
      "cell_type": "code",
      "execution_count": null,
      "metadata": {
        "colab": {
          "base_uri": "https://localhost:8080/",
          "height": 520
        },
        "id": "0-txnIjEmkGo",
        "outputId": "7011a24b-8fb5-41ff-e028-bb89069c6eac"
      },
      "outputs": [],
      "source": [
        "G1 = create_network(8953456, 8, 0.25)"
      ]
    },
    {
      "cell_type": "markdown",
      "metadata": {
        "id": "9_kHS6vbnM3I"
      },
      "source": [
        "#### Network 2"
      ]
    },
    {
      "cell_type": "code",
      "execution_count": null,
      "metadata": {
        "colab": {
          "base_uri": "https://localhost:8080/",
          "height": 520
        },
        "id": "fHJw0MXvnPAk",
        "outputId": "e1dfaaed-38bc-42eb-df15-3fa6fe9c14d1"
      },
      "outputs": [],
      "source": [
        "G2 = create_network(45651451, 10, 0.25)"
      ]
    },
    {
      "cell_type": "markdown",
      "metadata": {
        "id": "Sp_vo8rTnPgk"
      },
      "source": [
        "#### Network 3"
      ]
    },
    {
      "cell_type": "code",
      "execution_count": null,
      "metadata": {
        "colab": {
          "base_uri": "https://localhost:8080/",
          "height": 520
        },
        "id": "uQdYiCTCnTIy",
        "outputId": "b2b985c2-7e83-42a7-a738-dfc7aea1f6a6"
      },
      "outputs": [],
      "source": [
        "G3 = create_network(6546517, 12, 0.2)"
      ]
    },
    {
      "cell_type": "markdown",
      "metadata": {
        "id": "oNWC5JsU_t8K"
      },
      "source": [
        "# Implementation\n"
      ]
    },
    {
      "cell_type": "markdown",
      "metadata": {
        "id": "23YRC8KCUnyn"
      },
      "source": [
        "## Creating Sets"
      ]
    },
    {
      "cell_type": "code",
      "execution_count": null,
      "metadata": {
        "id": "2By6k6kAp7fO"
      },
      "outputs": [],
      "source": [
        "from typing_extensions import Self\n",
        "import itertools\n",
        "\n",
        "\n",
        "class GraphSets():\n",
        "  \"\"\"\n",
        "  This Class is responsible for generating all the data related to a Graph.\n",
        "  These attributes will be the Class' attributes that can be called\n",
        "  \"\"\"\n",
        "\n",
        "  def __init__(self, G, NUMBER_OF_INTERSECTIONS):\n",
        "    self.G = G\n",
        "    self.NUMBER_OF_INTERSECTIONS = self.G.number_of_nodes()\n",
        "    self.ARC_ROWS = set()\n",
        "    self.ARC_MATRIX = []\n",
        "    self.ROUTES = []\n",
        "    self.routes = []\n",
        "    self.ROUTE_DISTANCES = []\n",
        "    self.ROUTE_ARCS = []\n",
        "    self.ROUTE_ARC_BINARY = []\n",
        "    # self.populate()\n",
        "\n",
        "  def get_data(self):\n",
        "    data = {}\n",
        "    I = list(self.G.nodes) # intersections in the network\n",
        "    A = self.ARC_MATRIX # lengths of feasible arcs/links between intersections\n",
        "    R = self.ROUTES # intersections/nodes of routes\n",
        "    L = self.ROUTE_DISTANCES # length of arcs/links of routes\n",
        "    F = self.ROUTE_ARCS # arcs/links of routes\n",
        "    data[\"I\"] = I\n",
        "    data[\"A\"] = A\n",
        "    data[\"R\"] = R\n",
        "    data[\"L\"] = L\n",
        "    data[\"F\"] = F\n",
        "    return data\n",
        "\n",
        "  def populate(self):\n",
        "    \"\"\"\n",
        "    This function will simply populate all the data for the Class attributes\n",
        "    \"\"\"\n",
        "    \n",
        "    graph = nx.to_dict_of_dicts(self.G)\n",
        "    shortest_path = nx.dijkstra_path(self.G, 0, 2)\n",
        "\n",
        "    shortest_paths = nx.all_pairs_dijkstra_path(self.G)\n",
        "\n",
        "    arc_lengths = nx.get_edge_attributes(self.G,'weight')\n",
        "    arc_lengths.update({(k[1], k[0]) : v for k,v in arc_lengths.items()})\n",
        "\n",
        "    def get_arcs_from_nodes(node_list):\n",
        "      return [(node_list[i-1], node_list[i]) for i in range (1, len(node_list))]\n",
        "\n",
        "    \n",
        "    for start_node in shortest_paths:\n",
        "      for b in start_node[1].values():\n",
        "        if len(b) > 1:\n",
        "          arcs = get_arcs_from_nodes(b)\n",
        "          arcs_w_lengths = {arc: arc_lengths[arc] for arc in arcs}\n",
        "          arc_row = list(arcs_w_lengths.items())[0]\n",
        "          self.ARC_ROWS.add(arc_row)\n",
        "          self.routes.append({\"nodes\":tuple(b), \"arcs\":arcs_w_lengths})\n",
        "\n",
        "    for i in range(self.NUMBER_OF_INTERSECTIONS):\n",
        "      matrix_row = [0 for i in range(self.NUMBER_OF_INTERSECTIONS)]\n",
        "\n",
        "      for row in self.ARC_ROWS:\n",
        "        if row[0][0] == i:\n",
        "          matrix_row[row[0][1]] = row[1]\n",
        "      self.ARC_MATRIX.append(matrix_row)\n",
        "\n",
        "    \n",
        "    for j in self.routes:\n",
        "      self.ROUTES.append((list(j[\"nodes\"])))\n",
        "      arc_lens = j['arcs']\n",
        "\n",
        "      self.ROUTE_ARCS.append(list(arc_lens.keys()))\n",
        "\n",
        "      arc_sum = sum(arc_lens.values())\n",
        "      remaining_dist = []\n",
        "      remaining_dist.append(arc_sum)\n",
        "      for i in arc_lens.values():\n",
        "        arc_sum -= i\n",
        "        remaining_dist.append(arc_sum)\n",
        "      self.ROUTE_DISTANCES.append(tuple(remaining_dist))\n",
        "\n",
        "\n",
        "    matrix = np.zeros((len(self.ROUTES), self.NUMBER_OF_INTERSECTIONS, self.NUMBER_OF_INTERSECTIONS), dtype=int)\n",
        "\n",
        "    for k in range(len(self.ROUTES)):\n",
        "      arc = self.ROUTE_ARCS[k]\n",
        "\n",
        "      for i in range(len(arc)):\n",
        "        f = int(arc[i][0])\n",
        "        s = int(arc[i][1])\n",
        "        matrix[k][f][s] = 1\n",
        "\n",
        "    self.ROUTE_ARC_BINARY = matrix\n",
        "    return "
      ]
    },
    {
      "cell_type": "markdown",
      "metadata": {
        "id": "lyXsMXHcCDqs"
      },
      "source": [
        "## Construction Heristic"
      ]
    },
    {
      "cell_type": "code",
      "execution_count": null,
      "metadata": {
        "id": "E3rC3mmp41UA"
      },
      "outputs": [],
      "source": [
        "from collections import defaultdict\n",
        "\n",
        "class ConstructionHeuristic():\n",
        "  \"\"\" This class will create the Construction Heurisitic and return solution \"\"\"\n",
        "  RANGE_OF_CAR = 336\n",
        "\n",
        "  def __init__(self, Data):\n",
        "    self.I = Data[\"I\"]\n",
        "    self.A = Data[\"A\"]\n",
        "    self.R = Data[\"R\"]\n",
        "    self.L = Data[\"L\"]\n",
        "    self.F = Data[\"F\"]\n",
        "    self.sol_objective = None\n",
        "    self.sol_charger_loc = None\n",
        "    self.sol_charger_route = None\n",
        "    self.total_route_length = 0\n",
        "\n",
        "  def __objective_cost(self):\n",
        "    # Charging station\n",
        "    cost = 200_000 * len(self.sol_charger_loc) # Number of charging stations \n",
        "    # For each charging station:\n",
        "    for c in self.sol_charger_loc.values():\n",
        "      # Chargers at a charging station\n",
        "      cost += 10_000 * c\n",
        "    # Driving cost per km for all EVs\n",
        "    cost += 0.02613 * self.total_route_length\n",
        "    return cost\n",
        "\n",
        "  def __solve(self):\n",
        "    chargers_placed = defaultdict(lambda: 0)\n",
        "    chargers_placed_route = defaultdict(set)\n",
        "    for i, route in enumerate(self.F):\n",
        "      remaining_charge = self.RANGE_OF_CAR\n",
        "      for j, arc in enumerate(route):\n",
        "        # Charge remaining after travelling to the next node\n",
        "\n",
        "        arc_length = self.A[arc[0]][arc[1]]\n",
        "        remaining_charge -= arc_length\n",
        "        self.total_route_length += arc_length\n",
        "        if remaining_charge < 0:\n",
        "          # Since EV can not reach next node, add a charger at current node\n",
        "          if chargers_placed[arc[0]] < 10:\n",
        "            chargers_placed[arc[0]] += 1\n",
        "            chargers_placed_route[arc[0]].add((route[0][0], route[-1][-1]))\n",
        "          remaining_charge = self.RANGE_OF_CAR\n",
        "\n",
        "    return [chargers_placed, chargers_placed_route]\n",
        "\n",
        "  def get_solution(self):\n",
        "    if self.sol_charger_loc is None:\n",
        "      solved = self.__solve()\n",
        "      self.sol_charger_loc = dict(solved[0])\n",
        "      self.sol_charger_route = dict(solved[1])\n",
        "    if self.sol_objective is None:\n",
        "      self.sol_objective = self.__objective_cost()\n",
        "    return (self.sol_objective, self.sol_charger_loc, self.sol_charger_route, self.total_route_length)\n"
      ]
    },
    {
      "cell_type": "markdown",
      "metadata": {
        "id": "RUWj1ELy-5qT"
      },
      "source": [
        "## Simulating Annealing (Meta-heuristic)"
      ]
    },
    {
      "cell_type": "code",
      "execution_count": null,
      "metadata": {
        "id": "w7_D_rIMTC4n"
      },
      "outputs": [],
      "source": [
        "from collections import defaultdict\n",
        "from math import e\n",
        "from random import random\n",
        "\n",
        "class Simulated_Annealing():\n",
        "  \"\"\" This class will create the Meta-Heurisitic and return solution \"\"\"\n",
        "  def __init__(self,G, Data):\n",
        "    self.G = G\n",
        "    self.I = Data[\"I\"]\n",
        "    self.A = Data[\"A\"]\n",
        "    self.R = Data[\"R\"]\n",
        "    self.L = Data[\"L\"]\n",
        "    self.F = Data[\"F\"]\n",
        "\n",
        "  def get_route_length(self, start_node, end_node):\n",
        "     return nx.dijkstra_path_length(self.G,start_node, end_node)\n",
        "  \n",
        "  def get_route(self, start_node, end_node):\n",
        "     return nx.dijkstra_path(self.G,start_node, end_node)\n",
        "\n",
        "  def __objective_cost(self, chargers_placed, total_travel_distance):\n",
        "    # Charging station\n",
        "    cost = 200_000 * len(chargers_placed)\n",
        "    for c in chargers_placed.values():\n",
        "      # Chargers at a charging station\n",
        "      cost += 10_000 * c\n",
        "    # Driving cost per km for all EVs\n",
        "    cost += 0.02613 * total_travel_distance\n",
        "    return cost\n",
        "\n",
        "  def will_acccept_candidate_solution(self, Z_n, Z_c, T):\n",
        "    # For a minimization problem:\n",
        "    if Z_n <= Z_c:\n",
        "      # Accept since new solution is better then the current solution\n",
        "      return True\n",
        "    else:\n",
        "      # Accept by probability\n",
        "      P_accept = e**((Z_c-Z_n)/T)\n",
        "      r = random()\n",
        "      if r < P_accept:\n",
        "        return True\n",
        "      else:\n",
        "        return False \n",
        "\n",
        "  def update_temperature(self, T, alpha):\n",
        "    return alpha * T\n",
        "\n",
        "  def get_new_feasible_route_length(self,start_node,end_node,charger,all_chargers):\n",
        "    route_start = self.get_route(start_node,charger)\n",
        "    route_end = self.get_route(end_node,charger)\n",
        "\n",
        "    # Number of chargers passed on route\n",
        "    ch_start = len(set(route_start).difference([start_node]).intersection(all_chargers))\n",
        "    ch_end = len(set(route_end).difference([end_node]).intersection(all_chargers))\n",
        "\n",
        "    dist_start = self.get_route_length(start_node,charger)\n",
        "    dist_end = self.get_route_length(end_node,charger)\n",
        "\n",
        "    if dist_start <= (RANGE_OF_CAR * (ch_start + 1)):\n",
        "      # If EV can reach charger from start\n",
        "      remaining_range =  (RANGE_OF_CAR * ch_start)-dist_start\n",
        "      if dist_end <= (remaining_range + RANGE_OF_CAR * ch_start):\n",
        "        # If EV can reach end from charger\n",
        "        return dist_start + dist_end\n",
        "      else:\n",
        "        return None\n",
        "    else:\n",
        "      return None\n",
        "\n",
        "  def find_alternate_routes(self, removed_charger, chargers, old_routes):\n",
        "    # removed_charger = node from which chargers are to be remmoved\n",
        "    # chargers = list of nodes with new chargers\n",
        "    # old_routes = set of routes via old charger\n",
        "    new_routes = defaultdict(set)\n",
        "    change_in_distance = 0\n",
        "    \n",
        "    for route in old_routes:\n",
        "      trip_length_via_charger = {}\n",
        "\n",
        "      for node in chargers:\n",
        "        # Get new route from start to end via this charger,\n",
        "        # If this route is not feasible (i.e. EV will run out of charge), returns 'None'\n",
        "        length = self.get_new_feasible_route_length(route[0],route[1],node,chargers)\n",
        "        if length is not None:\n",
        "          trip_length_via_charger[node] = length\n",
        "      \n",
        "      # Find the shortest route incorporating one of the new chargers.\n",
        "      min_node = min(trip_length_via_charger, key=trip_length_via_charger.get)\n",
        "      min_len = trip_length_via_charger[min_node]\n",
        "\n",
        "      # old distance from start to end\n",
        "      change_in_distance -= self.get_route_length(route[0],route[1])\n",
        "\n",
        "      # new distance from start to end via new chargers\n",
        "      change_in_distance += min_len\n",
        "\n",
        "      new_routes[min_node].add((route[0],route[1]))\n",
        "    \n",
        "    return (new_routes, change_in_distance)\n",
        "      \n",
        "\n",
        "  def simulated_annealing(self, T_init, alpha, solution_c, Z_c, charger_routes, total_travel_distance_c, iterations):\n",
        "    # Sort nodes in increasing number of chargers\n",
        "    sorted_chargers = dict(sorted(solution_c.items(),key=lambda x: x[1]))\n",
        "    # print(\"Solution at start of annealing:\",\n",
        "    #       f\"Z_c = {Z_c}\",\n",
        "    #       f\"Charger Placement = {sorted_chargers}\",\n",
        "    #       f\"Routes in which EVs charge = {charger_routes}\",\n",
        "    #       f\"Total distance travelled by EVs = {total_travel_distance_c}\",\n",
        "    #       f\"Iterations left = {iterations}\",\n",
        "    #       f\"Tempearature = {T_init}\",\n",
        "    #       f\"Alpha = {alpha}\",\n",
        "    #       sep = \"\\n  \")\n",
        "    \n",
        "    T = T_init\n",
        "    max_iterations_reached = False\n",
        "    output = []\n",
        "\n",
        "    # Find neighbor by swapping with lowest node from above list\n",
        "    for node in sorted_chargers:\n",
        "      skip = False\n",
        "      for neighbor in self.G.neighbors(node):\n",
        "        break_loop = False\n",
        "\n",
        "        # Generate new list of possible chargers\n",
        "        possible_charger_locations = set(sorted_chargers.keys()).difference([node]).union([neighbor])\n",
        "        \n",
        "        # Update routes\n",
        "        # from the existing route list, remove the routes that need to be chaged and replace them with new routes. Same for distances.\n",
        "        try:\n",
        "          (routes_added,change_in_distance) = self.find_alternate_routes(node, possible_charger_locations, charger_routes[node])\n",
        "          \n",
        "          # Update charger routes and counts\n",
        "          new_charger_routes = self.update_dict_remove_key_and_add_items(charger_routes.copy(), node, routes_added)\n",
        "          # Create dict of new chargers\n",
        "          chargers_added = { k: len(v) for k, v in routes_added.items()}\n",
        "          new_solution = self.update_dict_remove_key_and_add_items(sorted_chargers.copy(), node, chargers_added)\n",
        "\n",
        "        except ValueError:\n",
        "          # If any of the new routes are infeasible, don't swap with this neighbor\n",
        "          continue\n",
        "          \n",
        "        # the total route distance is used to calculate the cost of travelling on that route.\n",
        "        total_travel_distance_n = total_travel_distance_c + change_in_distance\n",
        "\n",
        "        Z_n = self.__objective_cost(new_solution, total_travel_distance_n)\n",
        "\n",
        "        solution_accepted = False\n",
        "        if self.will_acccept_candidate_solution(Z_n, Z_c, T):\n",
        "          solution_accepted = True\n",
        "          # Update current to neighbor\n",
        "          Z_c = Z_n\n",
        "          solution_c = new_solution\n",
        "          sorted_chargers = dict(sorted(solution_c.items(),key=lambda x: x[1]))\n",
        "          charger_routes = new_charger_routes\n",
        "          total_travel_distance_c = total_travel_distance_n\n",
        "          T = self.update_temperature(T,alpha)\n",
        "\n",
        "          # Move to next node\n",
        "          skip = True\n",
        "          break_loop = True\n",
        "\n",
        "        # Add neighbor solution to output\n",
        "        output.append({\"Z\": Z_n, \"chargers\": new_solution, \"accepted\": solution_accepted})\n",
        "        \n",
        "        # Increment iterations\n",
        "        iterations -= 1\n",
        "        if iterations <= 0:\n",
        "          max_iterations_reached = True\n",
        "          break_loop = True\n",
        "\n",
        "        # Test if we should break out of loop\n",
        "        if break_loop:\n",
        "          break\n",
        "      \n",
        "      if max_iterations_reached:\n",
        "        break\n",
        "      if skip:\n",
        "        # This 'node' does not have a charger, so run simulated annealing with latest values\n",
        "        output.extend(self.simulated_annealing(T,alpha,solution_c, Z_c, charger_routes, total_travel_distance_c, iterations))\n",
        "        break\n",
        "\n",
        "    # Return a collection of all feasible solutions\n",
        "    return tuple(output)\n",
        "\n",
        "  def update_dict_remove_key_and_add_items(self, dictionary, key_to_remove, items_to_add):\n",
        "    # Remove key and its values\n",
        "    del dictionary[key_to_remove]\n",
        "    # Add new items\n",
        "    for k, v in items_to_add.items():\n",
        "      if k in dictionary.keys():\n",
        "        # If key already exists, update existing data\n",
        "        # Only update if existing value is an int or a set\n",
        "        if isinstance(dictionary[k], set) and isinstance(v, set):\n",
        "          dictionary[k] = dictionary[k].union(v)\n",
        "        elif isinstance(dictionary[k], int) and isinstance(v, int):\n",
        "          dictionary[k] += v\n",
        "        else:\n",
        "          raise TypeError(f\"{type(dictionary[k])} and/or {type(v)} are not of a supported type of value. Supported types: (int, set)\")\n",
        "      else:\n",
        "        # If no key exists, add data to new key\n",
        "        dictionary[k] = v\n",
        "    return dictionary\n",
        "\n",
        "  def get_best_iteration(self, annealing_result):\n",
        "    for i, result in reversed(list(enumerate(annealing_result))):\n",
        "      if result[\"accepted\"]:\n",
        "        best = {}\n",
        "        best['i'] = i\n",
        "        best['Z'] = result['Z']\n",
        "        best['chargers'] = result['chargers']\n",
        "        return best\n",
        "\n",
        "  def get_best_and_print_iterations(self, annealing_result):\n",
        "    for i, result in enumerate(annealing_result):\n",
        "      if result[\"accepted\"]:\n",
        "        result_string = f\"Iteration: {i+1} | ACCEPTED |  Cost: {result['Z']}  |  Charger Placement: {result['chargers']}\"\n",
        "      else:\n",
        "        result_string = f\"Iteration: {i+1} | REJECTED |  Cost: {result['Z']}  |  Charger Placement: {result['chargers']}\"\n",
        "      print(result_string)\n",
        "    best_result = self.get_best_iteration(annealing_result)\n",
        "    print(\"================\",\n",
        "          \"BEST SOLUTION:\",\n",
        "          f\"Iteration: {best_result['i']} | Cost: {best_result['Z']}  |  Charger Placement: {best_result['chargers']}\",\n",
        "          sep=\"\\n\")\n",
        "    return best_result\n"
      ]
    },
    {
      "cell_type": "markdown",
      "metadata": {
        "id": "73OscFSe_FBZ"
      },
      "source": [
        "# Runs"
      ]
    },
    {
      "cell_type": "markdown",
      "metadata": {
        "id": "oJHs5NrDi6Fp"
      },
      "source": [
        "## Base Run on Original Network"
      ]
    },
    {
      "cell_type": "code",
      "execution_count": null,
      "metadata": {
        "id": "rqAyDKxD_Vxf"
      },
      "outputs": [],
      "source": [
        "Sets = GraphSets(G1[\"graph\"], 8)\n",
        "Sets.populate()\n",
        "Data = Sets.get_data()"
      ]
    },
    {
      "cell_type": "code",
      "execution_count": null,
      "metadata": {
        "colab": {
          "base_uri": "https://localhost:8080/"
        },
        "id": "U5KbOxDk_Nfs",
        "outputId": "da395ecb-3f1f-4f81-962c-91067483618f"
      },
      "outputs": [],
      "source": [
        "# Construction Heuristic\n",
        "Construction = ConstructionHeuristic(Data)\n",
        "heuristic_solution1 = Construction.get_solution()\n",
        "\n",
        "Z_c = heuristic_solution1[0]\n",
        "placement_of_chargers = heuristic_solution1[1]\n",
        "routes_of_chargers = heuristic_solution1[2]\n",
        "total_travel_distance = heuristic_solution1[3]\n",
        "print(\"Results of Construction Heuristic:\",\n",
        "      f\"Z_c = {Z_c}\",\n",
        "      f\"Charger Placement = {placement_of_chargers}\",\n",
        "      f\"Routes in which EVs charge = {routes_of_chargers}\",\n",
        "      f\"Total distance travelled by EVs = {total_travel_distance}\",\n",
        "      sep = \"\\n  \")"
      ]
    },
    {
      "cell_type": "code",
      "execution_count": null,
      "metadata": {
        "colab": {
          "base_uri": "https://localhost:8080/"
        },
        "id": "b1dyvBdnCvir",
        "outputId": "cf206ea8-fa6a-4722-887b-db877278a247"
      },
      "outputs": [],
      "source": [
        "# Simulated Annealing \n",
        "simulated_annealing_solution1 = Simulated_Annealing(G1[\"graph\"],Data)\n",
        "T_init = Z_c * 0.2\n",
        "alpha = 0.5\n",
        "result = simulated_annealing_solution1.simulated_annealing(T_init, alpha, placement_of_chargers, Z_c, routes_of_chargers, total_travel_distance, iterations=30)\n",
        "metaheuristic_solution = simulated_annealing_solution1.get_best_and_print_iterations(result)"
      ]
    },
    {
      "cell_type": "code",
      "execution_count": null,
      "metadata": {
        "colab": {
          "base_uri": "https://localhost:8080/",
          "height": 1000
        },
        "id": "JvyneUyiuM9w",
        "outputId": "4178195c-d13a-44da-c28c-2a0b8a08540f"
      },
      "outputs": [],
      "source": [
        "print(\"Construction Heuristic\")\n",
        "display_solution(G1,heuristic_solution1[1], heuristic_solution1[0])\n",
        "print(\"Simulated-Annealing Metaheuristic\")\n",
        "display_solution(G1,metaheuristic_solution[\"chargers\"], metaheuristic_solution[\"Z\"])"
      ]
    },
    {
      "cell_type": "markdown",
      "metadata": {
        "id": "b_FUpyk9i_oo"
      },
      "source": [
        "## Run on Network 2"
      ]
    },
    {
      "cell_type": "code",
      "execution_count": null,
      "metadata": {
        "colab": {
          "base_uri": "https://localhost:8080/"
        },
        "id": "ti6Wyfk7uNaS",
        "outputId": "1ae55d3b-0988-4e0c-ac50-fb3e16785ed4"
      },
      "outputs": [],
      "source": [
        "Sets2 = GraphSets(G2[\"graph\"], 10)\n",
        "Sets2.populate()\n",
        "Data2 = Sets2.get_data()\n",
        "print(Data2)"
      ]
    },
    {
      "cell_type": "code",
      "execution_count": null,
      "metadata": {
        "colab": {
          "base_uri": "https://localhost:8080/"
        },
        "id": "cV4w1qiWjOpF",
        "outputId": "b86ec35b-2d5a-4633-fb28-43d0948e9037"
      },
      "outputs": [],
      "source": [
        "# Construction Heuristic\n",
        "Construction2 = ConstructionHeuristic(Data2)\n",
        "heuristic_solution2 = Construction2.get_solution()\n",
        "\n",
        "Z_c2 = heuristic_solution2[0]\n",
        "placement_of_chargers2 = heuristic_solution2[1]\n",
        "routes_of_chargers2 = heuristic_solution2[2]\n",
        "total_travel_distance2 = heuristic_solution2[3]\n",
        "print(\"Results of Construction Heuristic:\",\n",
        "      f\"Z_c = {Z_c2}\",\n",
        "      f\"Charger Placement = {placement_of_chargers2}\",\n",
        "      f\"Routes in which EVs charge = {routes_of_chargers2}\",\n",
        "      f\"Total distance travelled by EVs = {total_travel_distance2}\",\n",
        "      sep = \"\\n  \")"
      ]
    },
    {
      "cell_type": "code",
      "execution_count": null,
      "metadata": {
        "colab": {
          "base_uri": "https://localhost:8080/"
        },
        "id": "1DHpyFIxjujI",
        "outputId": "5c7fdd7b-c5a8-435f-e285-e1a4abcee1fe"
      },
      "outputs": [],
      "source": [
        "# Simulated Annealing \n",
        "simulated_annealing_solution2 = Simulated_Annealing(G2[\"graph\"],Data2)\n",
        "T_init = Z_c2 * 0.2\n",
        "alpha = 0.5\n",
        "result2 = simulated_annealing_solution2.simulated_annealing(T_init, alpha, placement_of_chargers2, Z_c2, routes_of_chargers2, total_travel_distance2, iterations=30)\n",
        "metaheuristic_solution2 = simulated_annealing_solution2.get_best_and_print_iterations(result2)"
      ]
    },
    {
      "cell_type": "code",
      "execution_count": null,
      "metadata": {
        "colab": {
          "base_uri": "https://localhost:8080/",
          "height": 1000
        },
        "id": "0FK1e8i14W0r",
        "outputId": "bba3141a-4017-40e9-f6c3-8f96cadc069d"
      },
      "outputs": [],
      "source": [
        "print(\"Construction Heuristic\")\n",
        "display_solution(G2,heuristic_solution2[1], heuristic_solution2[0])\n",
        "print(\"Simulated-Annealing Metaheuristic\")\n",
        "display_solution(G2,metaheuristic_solution2[\"chargers\"], metaheuristic_solution2[\"Z\"])"
      ]
    },
    {
      "cell_type": "markdown",
      "metadata": {
        "id": "gEO7gXGYj7NU"
      },
      "source": [
        "## Run on Network 3"
      ]
    },
    {
      "cell_type": "code",
      "execution_count": null,
      "metadata": {
        "id": "Q-631eFaj7NV"
      },
      "outputs": [],
      "source": [
        "Sets3 = GraphSets(G3[\"graph\"],12)\n",
        "Sets3.populate()\n",
        "Data3 = Sets3.get_data()"
      ]
    },
    {
      "cell_type": "code",
      "execution_count": null,
      "metadata": {
        "colab": {
          "base_uri": "https://localhost:8080/"
        },
        "id": "DVpxkKVAj7NV",
        "outputId": "7a77bac6-367d-46a3-8b16-2cc6b4f92f39"
      },
      "outputs": [],
      "source": [
        "# Construction Heuristic\n",
        "Construction3 = ConstructionHeuristic(Data3)\n",
        "heuristic_solution3 = Construction3.get_solution()\n",
        "\n",
        "Z_c3 = heuristic_solution3[0]\n",
        "placement_of_chargers3 = heuristic_solution3[1]\n",
        "routes_of_chargers3 = heuristic_solution3[2]\n",
        "total_travel_distance3 = heuristic_solution3[3]\n",
        "print(\"Results of Construction Heuristic:\",\n",
        "      f\"Z_c = {Z_c3}\",\n",
        "      f\"Charger Placement = {placement_of_chargers3}\",\n",
        "      f\"Routes in which EVs charge = {routes_of_chargers3}\",\n",
        "      f\"Total distance travelled by EVs = {total_travel_distance3}\",\n",
        "      sep = \"\\n  \")"
      ]
    },
    {
      "cell_type": "code",
      "execution_count": null,
      "metadata": {
        "colab": {
          "base_uri": "https://localhost:8080/"
        },
        "id": "8nSmLH0gj7NV",
        "outputId": "30f8793b-1e68-48ed-d8cb-422ae38efec2"
      },
      "outputs": [],
      "source": [
        "# Simulated Annealing \n",
        "simulated_annealing_solution3 = Simulated_Annealing(G3[\"graph\"],Data3)\n",
        "T_init = Z_c3 * 0.2\n",
        "alpha = 0.5\n",
        "result3 = simulated_annealing_solution3.simulated_annealing(T_init, alpha, placement_of_chargers3, Z_c3, routes_of_chargers3, total_travel_distance3, iterations=30)\n",
        "metaheuristic_solution3 = simulated_annealing_solution3.get_best_and_print_iterations(result3)"
      ]
    },
    {
      "cell_type": "code",
      "execution_count": null,
      "metadata": {
        "colab": {
          "base_uri": "https://localhost:8080/",
          "height": 1000
        },
        "id": "K8K21KgD4q_9",
        "outputId": "08549910-bc13-403e-ec59-4ac21f179170"
      },
      "outputs": [],
      "source": [
        "print(\"Construction Heuristic\")\n",
        "display_solution(G3,heuristic_solution3[1], heuristic_solution3[0])\n",
        "print(\"Simulated-Annealing Metaheuristic\")\n",
        "display_solution(G3,metaheuristic_solution3[\"chargers\"], metaheuristic_solution3[\"Z\"])"
      ]
    },
    {
      "cell_type": "markdown",
      "metadata": {
        "id": "vmI1Vlo0NSqp"
      },
      "source": [
        "# Numerical Testing"
      ]
    },
    {
      "cell_type": "markdown",
      "metadata": {
        "id": "whURcjblmLq3"
      },
      "source": [
        "Testing is essential for determining the validity and accuracy of a model/heuristic. Hence, we decided that we will generate three different random networks, and take the average of how each heuristic performs. Furthermore, we will also be using Alpha and Temperature values to test and find the optimal value. Alpha values will range from 0.05 to 1. Temperature parameters will start from 1 and be divided by 1.5 every iteration. The temperature will then be obtained by multiplying the temperature parameter by the Optimal Cost. "
      ]
    },
    {
      "cell_type": "code",
      "execution_count": null,
      "metadata": {
        "id": "EJZdxpCyNSPj"
      },
      "outputs": [],
      "source": [
        "# Creating Alpha values that range from 0.05 -> 1\n",
        "alpha_list = []\n",
        "alphas = 0.05\n",
        "for i in range(20):\n",
        "  alpha_list.append(alphas)\n",
        "  alphas += 0.05"
      ]
    },
    {
      "cell_type": "code",
      "execution_count": null,
      "metadata": {
        "id": "gAySjC1AN-vg"
      },
      "outputs": [],
      "source": [
        "# Creating Temperature Params values that change arbitrarily from 1 -> near 0\n",
        "temperature_params = []\n",
        "temp = 1\n",
        "for i in range(20):\n",
        "  temperature_params.append(temp)\n",
        "  temp /= 1.5\n",
        "\n",
        "def temperature_values(Z_c):\n",
        "  # Creating temperature values by multiplying the temperature params by Optimal Cost\n",
        "  temperature = []\n",
        "  for i in temperature_params:\n",
        "    temperature.append(i*Z_c)\n",
        "  return temperature  "
      ]
    },
    {
      "cell_type": "code",
      "execution_count": null,
      "metadata": {
        "colab": {
          "base_uri": "https://localhost:8080/"
        },
        "id": "Fi2aqQKaZkxW",
        "outputId": "a6f8e57d-062a-4ad3-e8a0-e53543a53a5d"
      },
      "outputs": [],
      "source": [
        "# Network 1\n",
        "import sys\n",
        "MAX_ITERATIONS = 30\n",
        "\n",
        "# This wil be the test of all the feasible solutions and how they behave based on\n",
        "# different temperature and alpha values\n",
        "temp_list = temperature_values(heuristic_solution1[0])\n",
        "\n",
        "# numerical_test[alpha][temp] = dict {\"Z\":int, \"chargers\": dict {node:num_chargers,...}}\n",
        "numerical_test1 = defaultdict(lambda: defaultdict(dict))\n",
        "\n",
        "# Simulated Annealing data\n",
        "simulated_annealing_solution1 = Simulated_Annealing(G1[\"graph\"],Data)\n",
        "\n",
        "for alpha in alpha_list:\n",
        "  for temp in temp_list:\n",
        "    solution = simulated_annealing_solution1.simulated_annealing(temp, alpha, placement_of_chargers, Z_c, routes_of_chargers, total_travel_distance, MAX_ITERATIONS)\n",
        "    best_solution = simulated_annealing_solution1.get_best_and_print_iterations(solution)\n",
        "    numerical_test1[alpha][temp] = best_solution\n",
        "\n",
        "min = sys.maxsize\n",
        "optimal_locations = []\n",
        "al = 0\n",
        "temp = 0\n",
        "Z_values = []\n",
        "\n",
        "for i in alpha_list:\n",
        "  for j in temp_list:\n",
        "    Z_values.append(numerical_test1[i][j][\"Z\"])\n",
        "    if numerical_test1[i][j][\"Z\"] < min:\n",
        "      min = numerical_test1[i][j][\"Z\"]\n",
        "      optimal_locations = numerical_test1[i][j][\"chargers\"]\n",
        "      al = i\n",
        "      temp = j\n"
      ]
    },
    {
      "cell_type": "code",
      "execution_count": null,
      "metadata": {
        "colab": {
          "base_uri": "https://localhost:8080/"
        },
        "id": "iNhBAurFP2ng",
        "outputId": "f8718a99-4e90-42af-ce06-b19e790abdff"
      },
      "outputs": [],
      "source": [
        "print(\"The optimal location for Network 1 is \", optimal_locations, \"at temperature\", temp, \"and alpha\", al, \"at cost\", min)\n"
      ]
    },
    {
      "cell_type": "code",
      "execution_count": null,
      "metadata": {
        "colab": {
          "base_uri": "https://localhost:8080/",
          "height": 572
        },
        "id": "JDk8YHqlFfeR",
        "outputId": "845c3a34-dced-45e0-fd7e-924cbea5e6d8"
      },
      "outputs": [],
      "source": [
        "display_solution(G1,optimal_locations, min)"
      ]
    },
    {
      "cell_type": "code",
      "execution_count": null,
      "metadata": {
        "colab": {
          "base_uri": "https://localhost:8080/",
          "height": 248
        },
        "id": "JRKjn_rC7pDi",
        "outputId": "68e8ce14-6db9-414f-ac86-7904e114b279"
      },
      "outputs": [],
      "source": [
        "from mpl_toolkits.mplot3d import Axes3D\n",
        "import matplotlib.pyplot as plt\n",
        "import numpy as np\n",
        "from matplotlib import cm\n",
        "\n",
        "X = alpha_list\n",
        "Y = temp_list\n",
        "Z = Z_values\n",
        "\n",
        "x = np.reshape(X, (20))\n",
        "y = np.reshape(Y, (20))\n",
        "z = np.reshape(Z, (400))\n",
        "\n",
        "\n",
        "fig = plt.figure()\n",
        "ax = fig.add_subplot(111, projection='3d')\n",
        "\n",
        "surf1 = ax.plot_trisurf(x, y, z, cmap=cm.coolwarm)\n",
        "\n",
        "\n",
        "ax.set_xlabel('Alpha')\n",
        "ax.set_ylabel('Temperatures')\n",
        "ax.set_zlabel('Z values')\n",
        "\n",
        "plt.show()"
      ]
    }
  ],
  "metadata": {
    "colab": {
      "collapsed_sections": [
        "9_kHS6vbnM3I",
        "Sp_vo8rTnPgk"
      ],
      "provenance": [],
      "toc_visible": true
    },
    "kernelspec": {
      "display_name": "Python 3.10.8 64-bit (microsoft store)",
      "language": "python",
      "name": "python3"
    },
    "language_info": {
      "codemirror_mode": {
        "name": "ipython",
        "version": 3
      },
      "file_extension": ".py",
      "mimetype": "text/x-python",
      "name": "python",
      "nbconvert_exporter": "python",
      "pygments_lexer": "ipython3",
      "version": "3.10.8"
    },
    "vscode": {
      "interpreter": {
        "hash": "5e3889ba32e8e233c7b89b6c276f40c5da709f2f98cfd74cd2a80fba7395a54d"
      }
    }
  },
  "nbformat": 4,
  "nbformat_minor": 0
}
